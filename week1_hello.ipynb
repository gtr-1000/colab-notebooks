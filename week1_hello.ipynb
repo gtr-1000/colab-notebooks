{
  "nbformat": 4,
  "nbformat_minor": 0,
  "metadata": {
    "colab": {
      "provenance": [],
      "authorship_tag": "ABX9TyPFBokFaKEKNGoFybJTGd8T",
      "include_colab_link": true
    },
    "kernelspec": {
      "name": "python3",
      "display_name": "Python 3"
    },
    "language_info": {
      "name": "python"
    }
  },
  "cells": [
    {
      "cell_type": "markdown",
      "metadata": {
        "id": "view-in-github",
        "colab_type": "text"
      },
      "source": [
        "<a href=\"https://colab.research.google.com/github/gtr-1000/colab-notebooks/blob/main/week1_hello.ipynb\" target=\"_parent\"><img src=\"https://colab.research.google.com/assets/colab-badge.svg\" alt=\"Open In Colab\"/></a>"
      ]
    },
    {
      "cell_type": "markdown",
      "source": [
        "# 🧾 About This Notebook\n",
        "\n",
        "This notebook is part of my learning process with Google Colab.  \n",
        "It demonstrates how to use **Markdown cells** and **code cells** to organize and explain code clearly.  \n",
        "\n",
        "- **Markdown cells** are used for text, titles, and documentation.\n",
        "- **Code cells** are used to write and run Python code.  \n",
        "\n",
        "---\n",
        "\n",
        "👤 *Author:* [me]  \n",
        "📅 *Date:* October 2025\n"
      ],
      "metadata": {
        "id": "9fplMQqcMycH"
      }
    },
    {
      "cell_type": "code",
      "execution_count": null,
      "metadata": {
        "colab": {
          "base_uri": "https://localhost:8080/"
        },
        "id": "E3KLiIjQxdki",
        "outputId": "b539fa0f-e8ea-4f21-ed13-325821791f14"
      },
      "outputs": [
        {
          "output_type": "stream",
          "name": "stdout",
          "text": [
            "hello, month1 — notebook 1\n"
          ]
        }
      ],
      "source": [
        "print(\"hello, month1 — notebook 1\")\n"
      ]
    }
  ]
}